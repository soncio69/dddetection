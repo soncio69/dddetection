{
 "cells": [
  {
   "cell_type": "code",
   "execution_count": 9,
   "id": "c084e0a2",
   "metadata": {},
   "outputs": [
    {
     "name": "stdout",
     "output_type": "stream",
     "text": [
      "Collecting wandb\n",
      "  Downloading wandb-0.16.3-py3-none-any.whl.metadata (9.9 kB)\n",
      "Collecting Click!=8.0.0,>=7.1 (from wandb)\n",
      "  Using cached click-8.1.7-py3-none-any.whl.metadata (3.0 kB)\n",
      "Collecting GitPython!=3.1.29,>=1.0.0 (from wandb)\n",
      "  Downloading GitPython-3.1.42-py3-none-any.whl.metadata (12 kB)\n",
      "Requirement already satisfied: requests<3,>=2.0.0 in /home/michele/anaconda3/envs/dddetection/lib/python3.9/site-packages (from wandb) (2.31.0)\n",
      "Requirement already satisfied: psutil>=5.0.0 in /home/michele/anaconda3/envs/dddetection/lib/python3.9/site-packages (from wandb) (5.9.0)\n",
      "Collecting sentry-sdk>=1.0.0 (from wandb)\n",
      "  Downloading sentry_sdk-1.40.6-py2.py3-none-any.whl.metadata (9.7 kB)\n",
      "Collecting docker-pycreds>=0.4.0 (from wandb)\n",
      "  Downloading docker_pycreds-0.4.0-py2.py3-none-any.whl (9.0 kB)\n",
      "Requirement already satisfied: PyYAML in /home/michele/anaconda3/envs/dddetection/lib/python3.9/site-packages (from wandb) (6.0)\n",
      "Collecting setproctitle (from wandb)\n",
      "  Downloading setproctitle-1.3.3-cp39-cp39-manylinux_2_5_x86_64.manylinux1_x86_64.manylinux_2_17_x86_64.manylinux2014_x86_64.whl.metadata (9.9 kB)\n",
      "Requirement already satisfied: setuptools in /home/michele/anaconda3/envs/dddetection/lib/python3.9/site-packages (from wandb) (68.2.2)\n",
      "Collecting appdirs>=1.4.3 (from wandb)\n",
      "  Downloading appdirs-1.4.4-py2.py3-none-any.whl.metadata (9.0 kB)\n",
      "Requirement already satisfied: typing-extensions in /home/michele/anaconda3/envs/dddetection/lib/python3.9/site-packages (from wandb) (4.9.0)\n",
      "Collecting protobuf!=4.21.0,<5,>=3.15.0 (from wandb)\n",
      "  Downloading protobuf-4.25.3-cp37-abi3-manylinux2014_x86_64.whl.metadata (541 bytes)\n",
      "Requirement already satisfied: six>=1.4.0 in /home/michele/anaconda3/envs/dddetection/lib/python3.9/site-packages (from docker-pycreds>=0.4.0->wandb) (1.16.0)\n",
      "Collecting gitdb<5,>=4.0.1 (from GitPython!=3.1.29,>=1.0.0->wandb)\n",
      "  Using cached gitdb-4.0.11-py3-none-any.whl.metadata (1.2 kB)\n",
      "Requirement already satisfied: charset-normalizer<4,>=2 in /home/michele/anaconda3/envs/dddetection/lib/python3.9/site-packages (from requests<3,>=2.0.0->wandb) (2.0.4)\n",
      "Requirement already satisfied: idna<4,>=2.5 in /home/michele/anaconda3/envs/dddetection/lib/python3.9/site-packages (from requests<3,>=2.0.0->wandb) (3.4)\n",
      "Requirement already satisfied: urllib3<3,>=1.21.1 in /home/michele/anaconda3/envs/dddetection/lib/python3.9/site-packages (from requests<3,>=2.0.0->wandb) (1.26.18)\n",
      "Requirement already satisfied: certifi>=2017.4.17 in /home/michele/anaconda3/envs/dddetection/lib/python3.9/site-packages (from requests<3,>=2.0.0->wandb) (2024.2.2)\n",
      "Collecting smmap<6,>=3.0.1 (from gitdb<5,>=4.0.1->GitPython!=3.1.29,>=1.0.0->wandb)\n",
      "  Using cached smmap-5.0.1-py3-none-any.whl.metadata (4.3 kB)\n",
      "Downloading wandb-0.16.3-py3-none-any.whl (2.2 MB)\n",
      "\u001b[2K   \u001b[38;2;114;156;31m━━━━━━━━━━━━━━━━━━━━━━━━━━━━━━━━━━━━━━━━\u001b[0m \u001b[32m2.2/2.2 MB\u001b[0m \u001b[31m2.4 MB/s\u001b[0m eta \u001b[36m0:00:00\u001b[0m[31m2.5 MB/s\u001b[0m eta \u001b[36m0:00:01\u001b[0m\n",
      "\u001b[?25hUsing cached appdirs-1.4.4-py2.py3-none-any.whl (9.6 kB)\n",
      "Using cached click-8.1.7-py3-none-any.whl (97 kB)\n",
      "Downloading GitPython-3.1.42-py3-none-any.whl (195 kB)\n",
      "\u001b[2K   \u001b[38;2;114;156;31m━━━━━━━━━━━━━━━━━━━━━━━━━━━━━━━━━━━━━━━━\u001b[0m \u001b[32m195.4/195.4 kB\u001b[0m \u001b[31m2.2 MB/s\u001b[0m eta \u001b[36m0:00:00\u001b[0m[31m2.5 MB/s\u001b[0m eta \u001b[36m0:00:01\u001b[0m\n",
      "\u001b[?25hDownloading protobuf-4.25.3-cp37-abi3-manylinux2014_x86_64.whl (294 kB)\n",
      "\u001b[2K   \u001b[38;2;114;156;31m━━━━━━━━━━━━━━━━━━━━━━━━━━━━━━━━━━━━━━━━\u001b[0m \u001b[32m294.6/294.6 kB\u001b[0m \u001b[31m2.4 MB/s\u001b[0m eta \u001b[36m0:00:00\u001b[0m[31m2.6 MB/s\u001b[0m eta \u001b[36m0:00:01\u001b[0m\n",
      "\u001b[?25hDownloading sentry_sdk-1.40.6-py2.py3-none-any.whl (258 kB)\n",
      "\u001b[2K   \u001b[38;2;114;156;31m━━━━━━━━━━━━━━━━━━━━━━━━━━━━━━━━━━━━━━━━\u001b[0m \u001b[32m258.5/258.5 kB\u001b[0m \u001b[31m2.3 MB/s\u001b[0m eta \u001b[36m0:00:00\u001b[0m[31m2.5 MB/s\u001b[0m eta \u001b[36m0:00:01\u001b[0m\n",
      "\u001b[?25hDownloading setproctitle-1.3.3-cp39-cp39-manylinux_2_5_x86_64.manylinux1_x86_64.manylinux_2_17_x86_64.manylinux2014_x86_64.whl (30 kB)\n",
      "Using cached gitdb-4.0.11-py3-none-any.whl (62 kB)\n",
      "Using cached smmap-5.0.1-py3-none-any.whl (24 kB)\n",
      "Installing collected packages: appdirs, smmap, setproctitle, sentry-sdk, protobuf, docker-pycreds, Click, gitdb, GitPython, wandb\n",
      "Successfully installed Click-8.1.7 GitPython-3.1.42 appdirs-1.4.4 docker-pycreds-0.4.0 gitdb-4.0.11 protobuf-4.25.3 sentry-sdk-1.40.6 setproctitle-1.3.3 smmap-5.0.1 wandb-0.16.3\n"
     ]
    }
   ],
   "source": [
    "!pip install wandb"
   ]
  },
  {
   "cell_type": "code",
   "execution_count": 5,
   "id": "22b6a85b",
   "metadata": {},
   "outputs": [
    {
     "data": {
      "text/plain": [
       "PosixPath('/home/michele/.cache/deepdoctection/datasets/FRFPE')"
      ]
     },
     "execution_count": 5,
     "metadata": {},
     "output_type": "execute_result"
    }
   ],
   "source": [
    "dd.get_dataset_dir_path() / \"FRFPE\""
   ]
  },
  {
   "cell_type": "code",
   "execution_count": 10,
   "id": "8a6bb9b6",
   "metadata": {},
   "outputs": [],
   "source": [
    "import deepdoctection as dd\n",
    "from collections import defaultdict\n",
    "import wandb\n",
    "from transformers import LayoutLMTokenizerFast"
   ]
  },
  {
   "cell_type": "code",
   "execution_count": 11,
   "id": "8ced5b86",
   "metadata": {},
   "outputs": [],
   "source": [
    "@dd.object_types_registry.register(\"ner_first_page\")\n",
    "class FundsFirstPage(dd.ObjectTypes):\n",
    "\n",
    "    report_date = \"report_date\"\n",
    "    umbrella = \"umbrella\"\n",
    "    report_type = \"report_type\"\n",
    "    fund_name = \"fund_name\"\n",
    "\n",
    "dd.update_all_types_dict()"
   ]
  },
  {
   "cell_type": "code",
   "execution_count": 14,
   "id": "ae9ad281",
   "metadata": {},
   "outputs": [],
   "source": [
    "path = dd.get_dataset_dir_path() / \"FRFPE\" / \"40952248ba13ae8bfdd39f56af22f7d9_0.json\"\n",
    "\n",
    "page = dd.Page.from_file(path)\n",
    "page.image =  dd.load_image_from_file(path.parents[0]  / \"image\" / page.file_name.replace(\"pdf\",\"png\"))\n",
    "page.viz(interactive=True,show_words=True)  # close interactive window with q"
   ]
  },
  {
   "cell_type": "code",
   "execution_count": 16,
   "id": "141057d9",
   "metadata": {},
   "outputs": [
    {
     "data": {
      "text/plain": [
       "'40952248ba13ae8bfdd39f56af22f7d9_0.png'"
      ]
     },
     "execution_count": 16,
     "metadata": {},
     "output_type": "execute_result"
    }
   ],
   "source": [
    "page.file_name.replace(\"pdf\",\"png\")"
   ]
  },
  {
   "cell_type": "code",
   "execution_count": 17,
   "id": "55737f68",
   "metadata": {},
   "outputs": [
    {
     "name": "stdout",
     "output_type": "stream",
     "text": [
      "word: GFG, category: umbrella, bio: B\n",
      "word: Funds, category: umbrella, bio: I\n",
      "word: Société, category: other, bio: O\n",
      "word: d, category: other, bio: O\n",
      "word: ', category: other, bio: O\n",
      "word: Investissement, category: other, bio: O\n",
      "word: à, category: other, bio: O\n",
      "word: Capital, category: other, bio: O\n",
      "word: Variable, category: other, bio: O\n",
      "word: incorporated, category: other, bio: O\n",
      "word: in, category: other, bio: O\n",
      "word: Luxembourg, category: other, bio: O\n",
      "word: Luxembourg, category: other, bio: O\n",
      "word: R, category: other, bio: O\n",
      "word: ., category: other, bio: O\n",
      "word: C, category: other, bio: O\n",
      "word: ., category: other, bio: O\n",
      "word: S, category: other, bio: O\n",
      "word: ., category: other, bio: O\n",
      "word: B60668, category: other, bio: O\n",
      "word: Unaudited, category: other, bio: O\n",
      "word: Semi-Annual, category: report_type, bio: B\n",
      "word: Report, category: report_type, bio: I\n",
      "word: as, category: other, bio: O\n",
      "word: at, category: other, bio: O\n",
      "word: 30.06.2021, category: report_date, bio: B\n"
     ]
    }
   ],
   "source": [
    "for word in page.words:\n",
    "    print(f\"word: {word.characters}, category: {word.token_class}, bio: {word.tag}\")"
   ]
  },
  {
   "cell_type": "code",
   "execution_count": null,
   "id": "ff71663c",
   "metadata": {},
   "outputs": [],
   "source": []
  }
 ],
 "metadata": {
  "kernelspec": {
   "display_name": "Python [conda env:dddetection]",
   "language": "python",
   "name": "conda-env-dddetection-py"
  },
  "language_info": {
   "codemirror_mode": {
    "name": "ipython",
    "version": 3
   },
   "file_extension": ".py",
   "mimetype": "text/x-python",
   "name": "python",
   "nbconvert_exporter": "python",
   "pygments_lexer": "ipython3",
   "version": "3.9.18"
  }
 },
 "nbformat": 4,
 "nbformat_minor": 5
}
